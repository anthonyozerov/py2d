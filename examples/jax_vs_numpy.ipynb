{
 "cells": [
  {
   "cell_type": "markdown",
   "metadata": {},
   "source": [
    "## Comparing the jax.numpy.fft with numpy.fft"
   ]
  },
  {
   "cell_type": "code",
   "execution_count": 3,
   "metadata": {},
   "outputs": [
    {
     "name": "stdout",
     "output_type": "stream",
     "text": [
      "[[1. 1.]\n",
      " [1. 1.]] [[1. 1.]\n",
      " [1. 1.]] 1.3331533165183426e-10 1.7689410108875597e-10\n",
      "#\n",
      "[[1. 1.]\n",
      " [1. 1.]] [[1. 1.]\n",
      " [1. 1.]] 3.406227136621809e-28 3.415452867676893e-28\n",
      "#\n",
      "[[1. 1.]\n",
      " [1. 1.]] [[1. 1.]\n",
      " [1. 1.]] 1.3331533163442366e-10 1.7689410107305212e-10\n"
     ]
    }
   ],
   "source": [
    "import jax.numpy as jnp\n",
    "from jax import jit\n",
    "import numpy as np\n",
    "import numpy.testing as npt\n",
    "\n",
    "from sklearn.metrics import mean_squared_error\n",
    "import scipy\n",
    "\n",
    "# Generate test data\n",
    "np.random.seed(0)  # Ensure reproducibility\n",
    "data = np.random.rand(256, 256)  # 2D array of random numbers\n",
    "\n",
    "# Adjusted tolerance values\n",
    "atol = 1e-6  # Absolute tolerance\n",
    "rtol = 1e-6  # Relative tolerance\n",
    "\n",
    "a = np.fft.fft2(data).flatten()\n",
    "b = jnp.fft.fft2(data).flatten()\n",
    "c = scipy.fft.fft2(data).flatten()\n",
    "\n",
    "a_real = a.real.flatten()\n",
    "a_imag = a.imag.flatten()\n",
    "b_real = b.real.flatten()\n",
    "b_imag = b.imag.flatten()\n",
    "c_real = c.real.flatten()\n",
    "c_imag = c.imag.flatten()\n",
    "\n",
    "# print(np.fft.fft2(data) - jnp.fft.fft2(data))\n",
    "# print('####')\n",
    "# print(np.fft.fft2(data) - scipy.fft.fft2(data))\n",
    "\n",
    "print(np.corrcoef(a_real, b_real), np.corrcoef(a_imag, b_imag), mean_squared_error(a_real, b_real), mean_squared_error(a_imag, b_imag))\n",
    "print('#')\n",
    "print(np.corrcoef(a_real, c_real), np.corrcoef(a_imag, c_imag), mean_squared_error(a_real, c_real), mean_squared_error(a_imag, c_imag))\n",
    "print('#')\n",
    "print(np.corrcoef(b_real, c_real), np.corrcoef(b_imag, c_imag), mean_squared_error(b_real, c_real), mean_squared_error(b_imag, c_imag))\n",
    "# print(jnp.fft.fft2(data))\n",
    "\n"
   ]
  },
  {
   "cell_type": "code",
   "execution_count": 19,
   "metadata": {},
   "outputs": [
    {
     "ename": "TracerArrayConversionError",
     "evalue": "The numpy.ndarray conversion method __array__() was called on traced array with shape float32[10000].\nThe error occurred while tracing the function numpy_jax_func at /var/folders/x6/fx3v22fd3h33fqnrs23l8_sh0000gn/T/ipykernel_78474/457597371.py:15 for jit. This concrete value was not available in Python because it depends on the value of the argument x.\nSee https://jax.readthedocs.io/en/latest/errors.html#jax.errors.TracerArrayConversionError",
     "output_type": "error",
     "traceback": [
      "\u001b[0;31m---------------------------------------------------------------------------\u001b[0m",
      "\u001b[0;31mTracerArrayConversionError\u001b[0m                Traceback (most recent call last)",
      "Cell \u001b[0;32mIn[19], line 24\u001b[0m\n\u001b[1;32m     22\u001b[0m \u001b[38;5;66;03m# Warm-up and compile the JAX function\u001b[39;00m\n\u001b[1;32m     23\u001b[0m _ \u001b[38;5;241m=\u001b[39m jax_func(x)\n\u001b[0;32m---> 24\u001b[0m _ \u001b[38;5;241m=\u001b[39m \u001b[43mnumpy_jax_func\u001b[49m\u001b[43m(\u001b[49m\u001b[43mx\u001b[49m\u001b[43m)\u001b[49m\n\u001b[1;32m     26\u001b[0m \u001b[38;5;66;03m# Measure JAX function time\u001b[39;00m\n\u001b[1;32m     27\u001b[0m start_time \u001b[38;5;241m=\u001b[39m time\u001b[38;5;241m.\u001b[39mtime()\n",
      "    \u001b[0;31m[... skipping hidden 12 frame]\u001b[0m\n",
      "Cell \u001b[0;32mIn[19], line 17\u001b[0m, in \u001b[0;36mnumpy_jax_func\u001b[0;34m(x)\u001b[0m\n\u001b[1;32m     15\u001b[0m \u001b[38;5;129m@jit\u001b[39m\n\u001b[1;32m     16\u001b[0m \u001b[38;5;28;01mdef\u001b[39;00m \u001b[38;5;21mnumpy_jax_func\u001b[39m(x):\n\u001b[0;32m---> 17\u001b[0m     \u001b[38;5;28;01mreturn\u001b[39;00m \u001b[43mnp\u001b[49m\u001b[38;5;241;43m.\u001b[39;49m\u001b[43msin\u001b[49m\u001b[43m(\u001b[49m\u001b[43mx\u001b[49m\u001b[43m)\u001b[49m \u001b[38;5;241m*\u001b[39m\u001b[38;5;241m*\u001b[39m \u001b[38;5;241m2\u001b[39m \u001b[38;5;241m+\u001b[39m np\u001b[38;5;241m.\u001b[39mcos(x) \u001b[38;5;241m*\u001b[39m\u001b[38;5;241m*\u001b[39m \u001b[38;5;241m2\u001b[39m\n",
      "File \u001b[0;32m/opt/homebrew/anaconda3/envs/jax/lib/python3.10/site-packages/jax/_src/core.py:605\u001b[0m, in \u001b[0;36mTracer.__array__\u001b[0;34m(self, *args, **kw)\u001b[0m\n\u001b[1;32m    604\u001b[0m \u001b[38;5;28;01mdef\u001b[39;00m \u001b[38;5;21m__array__\u001b[39m(\u001b[38;5;28mself\u001b[39m, \u001b[38;5;241m*\u001b[39margs, \u001b[38;5;241m*\u001b[39m\u001b[38;5;241m*\u001b[39mkw):\n\u001b[0;32m--> 605\u001b[0m   \u001b[38;5;28;01mraise\u001b[39;00m TracerArrayConversionError(\u001b[38;5;28mself\u001b[39m)\n",
      "\u001b[0;31mTracerArrayConversionError\u001b[0m: The numpy.ndarray conversion method __array__() was called on traced array with shape float32[10000].\nThe error occurred while tracing the function numpy_jax_func at /var/folders/x6/fx3v22fd3h33fqnrs23l8_sh0000gn/T/ipykernel_78474/457597371.py:15 for jit. This concrete value was not available in Python because it depends on the value of the argument x.\nSee https://jax.readthedocs.io/en/latest/errors.html#jax.errors.TracerArrayConversionError"
     ]
    }
   ],
   "source": [
    "import jax.numpy as jnp\n",
    "from jax import jit\n",
    "import numpy as np\n",
    "import time\n",
    "\n",
    "# Define the JAX function and JIT compile it\n",
    "@jit\n",
    "def jax_func(x):\n",
    "    return jnp.sin(x) ** 2 + jnp.cos(x) ** 2\n",
    "\n",
    "# Define the NumPy function (not JIT compiled, for comparison)\n",
    "def numpy_func(x):\n",
    "    return np.sin(x) ** 2 + np.cos(x) ** 2\n",
    "\n",
    "@jit\n",
    "def numpy_jax_func(x):\n",
    "    return np.sin(x) ** 2 + np.cos(x) ** 2\n",
    "\n",
    "# Generate a large NumPy array as input\n",
    "x = np.random.rand(10000)\n",
    "\n",
    "# Warm-up and compile the JAX function\n",
    "_ = jax_func(x)\n",
    "_ = numpy_jax_func(x)\n",
    "\n",
    "# Measure JAX function time\n",
    "start_time = time.time()\n",
    "for _ in range(500):  # Run the JAX function 500 times\n",
    "    _ = jax_func(x)\n",
    "jax_time = time.time() - start_time\n",
    "\n",
    "# Measure NumPy function time\n",
    "start_time = time.time()\n",
    "for _ in range(500):  # Run the NumPy function 500 times\n",
    "    _ = numpy_func(x)\n",
    "numpy_time = time.time() - start_time\n",
    "\n",
    "# Measure NumPy function time\n",
    "start_time = time.time()\n",
    "for _ in range(500):  # Run the NumPy function 500 times\n",
    "    _ = numpy_jax_func(x)\n",
    "numpy_jax_time = time.time() - start_time\n",
    "\n",
    "print(f\"JAX computation time: {jax_time} seconds\")\n",
    "print(f\"NumPy-JAX computation time: {numpy_jax_time} seconds\")\n",
    "print(f\"NumPy computation time: {numpy_time} seconds\")\n"
   ]
  }
 ],
 "metadata": {
  "kernelspec": {
   "display_name": "jax",
   "language": "python",
   "name": "python3"
  },
  "language_info": {
   "codemirror_mode": {
    "name": "ipython",
    "version": 3
   },
   "file_extension": ".py",
   "mimetype": "text/x-python",
   "name": "python",
   "nbconvert_exporter": "python",
   "pygments_lexer": "ipython3",
   "version": "3.10.12"
  }
 },
 "nbformat": 4,
 "nbformat_minor": 2
}
